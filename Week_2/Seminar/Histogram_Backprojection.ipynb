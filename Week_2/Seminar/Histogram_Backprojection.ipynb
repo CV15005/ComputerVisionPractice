{
 "cells": [
  {
   "cell_type": "code",
   "execution_count": 20,
   "id": "72c50458",
   "metadata": {},
   "outputs": [],
   "source": [
    "# https://theailearner.com/2019/04/18/histogram-backprojection/\n",
    "import cv2\n",
    "import numpy as np\n",
    "import matplotlib.pyplot as plt\n",
    "#roi is the object or region of object we need to find\n",
    "roi = cv2.imread('ground.jpg')\n",
    "hsv = cv2.cvtColor(roi,cv2.COLOR_BGR2HSV)\n",
    "#target is the image we search in\n",
    "target = cv2.imread('messi.jpg')\n",
    "hsvt = cv2.cvtColor(target,cv2.COLOR_BGR2HSV)\n",
    "# Find the histograms using calcHist.\n",
    "M = cv2.calcHist([hsv],[0, 1], None, [180, 256], [0, 180, 0, 256] )\n",
    "I = cv2.calcHist([hsvt],[0, 1], None, [180, 256], [0, 180, 0, 256] )"
   ]
  },
  {
   "cell_type": "code",
   "execution_count": 21,
   "id": "3dd069df",
   "metadata": {},
   "outputs": [],
   "source": [
    "# cv2.imshow('image', roi)\n",
    "# cv2.waitKey(0)\n",
    "# cv2.destroyAllWindows()"
   ]
  },
  {
   "cell_type": "code",
   "execution_count": 22,
   "id": "2fd0d430",
   "metadata": {},
   "outputs": [
    {
     "data": {
      "image/png": "[encoded data removed]",
      "text/plain": [
       "<Figure size 432x288 with 1 Axes>"
      ]
     },
     "metadata": {
      "needs_background": "light"
     },
     "output_type": "display_data"
    }
   ],
   "source": [
    "plt.imshow(M)\n",
    "plt.show()"
   ]
  },
  {
   "cell_type": "code",
   "execution_count": 23,
   "id": "73aadeb6",
   "metadata": {},
   "outputs": [
    {
     "name": "stderr",
     "output_type": "stream",
     "text": [
      "/tmp/ipykernel_11039/2314269407.py:1: RuntimeWarning: divide by zero encountered in true_divide\n",
      "  R = M/I\n",
      "/tmp/ipykernel_11039/2314269407.py:1: RuntimeWarning: invalid value encountered in true_divide\n",
      "  R = M/I\n"
     ]
    }
   ],
   "source": [
    "R = M/I"
   ]
  },
  {
   "cell_type": "code",
   "execution_count": 24,
   "id": "ffd5f7b5",
   "metadata": {},
   "outputs": [
    {
     "data": {
      "image/png": "[encoded data removed]",
      "text/plain": [
       "<Figure size 432x288 with 1 Axes>"
      ]
     },
     "metadata": {
      "needs_background": "light"
     },
     "output_type": "display_data"
    }
   ],
   "source": [
    "plt.imshow(R)\n",
    "plt.show()"
   ]
  },
  {
   "cell_type": "code",
   "execution_count": 25,
   "id": "c22149eb",
   "metadata": {},
   "outputs": [],
   "source": [
    "h,s,v = cv2.split(hsvt)"
   ]
  },
  {
   "cell_type": "code",
   "execution_count": 26,
   "id": "c41d2efb",
   "metadata": {},
   "outputs": [],
   "source": [
    "B = R[h.ravel(),s.ravel()]"
   ]
  },
  {
   "cell_type": "code",
   "execution_count": 27,
   "id": "6375c227",
   "metadata": {},
   "outputs": [
    {
     "data": {
      "text/plain": [
       "array([0.        , 0.        , 0.        , ..., 0.42672414, 0.2781955 ,\n",
       "       0.24770643], dtype=float32)"
      ]
     },
     "execution_count": 27,
     "metadata": {},
     "output_type": "execute_result"
    }
   ],
   "source": [
    "B"
   ]
  },
  {
   "cell_type": "code",
   "execution_count": 28,
   "id": "dffb41db",
   "metadata": {},
   "outputs": [
    {
     "data": {
      "text/plain": [
       "3.0"
      ]
     },
     "execution_count": 28,
     "metadata": {},
     "output_type": "execute_result"
    }
   ],
   "source": [
    "B.max()"
   ]
  },
  {
   "cell_type": "code",
   "execution_count": 29,
   "id": "2bdff22b",
   "metadata": {},
   "outputs": [],
   "source": [
    "B = np.minimum(B,1)"
   ]
  },
  {
   "cell_type": "code",
   "execution_count": 30,
   "id": "1c496838",
   "metadata": {},
   "outputs": [
    {
     "data": {
      "text/plain": [
       "1.0"
      ]
     },
     "execution_count": 30,
     "metadata": {},
     "output_type": "execute_result"
    }
   ],
   "source": [
    "B.max()"
   ]
  },
  {
   "cell_type": "code",
   "execution_count": 31,
   "id": "b209e30d",
   "metadata": {},
   "outputs": [],
   "source": [
    "B = B.reshape(hsvt.shape[:2])"
   ]
  },
  {
   "cell_type": "code",
   "execution_count": 32,
   "id": "1d9e7acc",
   "metadata": {},
   "outputs": [],
   "source": [
    "# apply a convolution with a circular disc\n",
    "disc = cv2.getStructuringElement(cv2.MORPH_ELLIPSE,(5,5))"
   ]
  },
  {
   "cell_type": "code",
   "execution_count": 33,
   "id": "74b1cd34",
   "metadata": {},
   "outputs": [
    {
     "data": {
      "text/plain": [
       "array([[0, 0, 1, 0, 0],\n",
       "       [1, 1, 1, 1, 1],\n",
       "       [1, 1, 1, 1, 1],\n",
       "       [1, 1, 1, 1, 1],\n",
       "       [0, 0, 1, 0, 0]], dtype=uint8)"
      ]
     },
     "execution_count": 33,
     "metadata": {},
     "output_type": "execute_result"
    }
   ],
   "source": [
    "disc"
   ]
  },
  {
   "cell_type": "code",
   "execution_count": 34,
   "id": "b7a9a95e",
   "metadata": {},
   "outputs": [
    {
     "data": {
      "text/plain": [
       "array([[  0,   0,   0, ...,   0,   0,   0],\n",
       "       [  0,   0,   0, ...,   0,   0,   0],\n",
       "       [  0,   0,   0, ...,   0,   0,   0],\n",
       "       ...,\n",
       "       [109, 109,  91, ...,  36,  36,  36],\n",
       "       [109, 109,  91, ...,  55,  55,  55],\n",
       "       [109, 109,  91, ...,  73,  73,  73]], dtype=uint8)"
      ]
     },
     "execution_count": 34,
     "metadata": {},
     "output_type": "execute_result"
    }
   ],
   "source": [
    "B = cv2.filter2D(B,-1,disc)\n",
    "B = np.uint8(B)\n",
    "cv2.normalize(B,B,0,255,cv2.NORM_MINMAX)"
   ]
  },
  {
   "cell_type": "code",
   "execution_count": 35,
   "id": "16ab7c99",
   "metadata": {},
   "outputs": [],
   "source": [
    "# Use thresholding to segment out the region\n",
    "ret,thresh = cv2.threshold(B,10,255,0)"
   ]
  },
  {
   "cell_type": "code",
   "execution_count": 36,
   "id": "690ff54f",
   "metadata": {},
   "outputs": [
    {
     "data": {
      "image/png": "[encoded data removed]",
      "text/plain": [
       "<Figure size 432x288 with 1 Axes>"
      ]
     },
     "metadata": {
      "needs_background": "light"
     },
     "output_type": "display_data"
    }
   ],
   "source": [
    "plt.imshow(thresh, cmap='gray')\n",
    "plt.show()"
   ]
  },
  {
   "cell_type": "code",
   "execution_count": 37,
   "id": "48d36efb",
   "metadata": {},
   "outputs": [
    {
     "data": {
      "text/plain": [
       "(342, 548, 3)"
      ]
     },
     "execution_count": 37,
     "metadata": {},
     "output_type": "execute_result"
    }
   ],
   "source": [
    "# Overlay images using bitwise_and\n",
    "thresh = cv2.merge((thresh,thresh,thresh))\n",
    "thresh.shape"
   ]
  },
  {
   "cell_type": "code",
   "execution_count": 38,
   "id": "1a9fb538",
   "metadata": {},
   "outputs": [],
   "source": [
    "res = cv2.bitwise_and(target,thresh)\n",
    "\n",
    "# Display the output\n",
    "cv2.imshow('Result',res)\n",
    "cv2.waitKey(0)\n",
    "cv2.destroyAllWindows()"
   ]
  }
 ],
 "metadata": {
  "kernelspec": {
   "display_name": "Python 3 (ipykernel)",
   "language": "python",
   "name": "python3"
  },
  "language_info": {
   "codemirror_mode": {
    "name": "ipython",
    "version": 3
   },
   "file_extension": ".py",
   "mimetype": "text/x-python",
   "name": "python",
   "nbconvert_exporter": "python",
   "pygments_lexer": "ipython3",
   "version": "3.8.10"
  }
 },
 "nbformat": 4,
 "nbformat_minor": 5
}
