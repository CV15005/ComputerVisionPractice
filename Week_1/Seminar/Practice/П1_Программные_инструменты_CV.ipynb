{
 "cells": [
  {
   "cell_type": "markdown",
   "id": "thirty-spanking",
   "metadata": {},
   "source": [
    "# Семинар 1\n",
    "# Программные инструменты для работы с компьютерным зрением\n",
    "# Курс \"Компьютерное зрение\""
   ]
  },
  {
   "cell_type": "code",
   "execution_count": null,
   "id": "4da025d2",
   "metadata": {},
   "outputs": [],
   "source": []
  },
  {
   "cell_type": "markdown",
   "id": "ceramic-visiting",
   "metadata": {},
   "source": [
    "## 1. Основные библиотеки для работы с изображениями\n",
    "## 1.1. Основные библиотеки\n",
    "### Библиотека Matplotlib\n",
    "Для построения графиков, рисования точек и прямых, вывода изображений применяется графическая библиотека Matplotlib. Интерфейс PyLab, включенный в Matplotlib, - это набор функций, позволяющий пользователю строить графики. Для импортирования библиотеки можно использовать либо:  \n",
    "import pylab import *     \n",
    "либо:  \n",
    "import matplotlib.pyplot as plt  \n",
    "\n",
    "### PIL - библиотека Python Imaging Library\n",
    "Библиотека PIL сожержит общие средства для обработки изображений: изменение размера, кадрирование, поворот, преобразование цветов.  \n",
    "PIL позволяет читать изображения, записанные в большинстве популярных форматов.\n",
    "\n",
    "### Пакет NumPy\n",
    "Пакет Numpy часто используется для научных расчетов. NumPy включает ряд полезных концепций, в частности объекты-массивы (для представления векторов, матриц, изображений) и функции из области линейной алгебры. Далее массивы NumPy будут использоваться очень активно. Объект массива позволяет выполнять такие важные операции, как умножение матриц, транспонирование, решение систем линейных уравнений, скалярное умножение и нормировку векторов. Все это необходимо для таких вещей, как совмещение изображений, деформирование, различные виды моделирования, классификация и группировка изображений.\n",
    "\n",
    "### Пакет SciPy\n",
    "Пакет SciPy - пакет математических программ с открытым исходным кодом. Он построен на базе NumPy и предоставляет эффективные функции для выполнения многих операций, в том числе численного интегрирования, оптимизации, статистики, обработки сигналов и изображений.\n",
    "\n",
    "Импотрируем указанные библиотеки:"
   ]
  },
  {
   "cell_type": "code",
   "execution_count": null,
   "id": "enhanced-glossary",
   "metadata": {},
   "outputs": [],
   "source": [
    "import matplotlib.pyplot as plt\n",
    "from PIL import Image\n",
    "import numpy as np\n",
    "import scipy.ndimage as sp"
   ]
  },
  {
   "cell_type": "markdown",
   "id": "altered-leisure",
   "metadata": {},
   "source": [
    "## 1.2. Примеры использования библиотеки PIL\n",
    "Считаем изображение и построим изображение. Для того, чтобы matplotlib смог построить изображение, необходимо преобразовать его в матричный вид."
   ]
  },
  {
   "cell_type": "code",
   "execution_count": null,
   "id": "difficult-trouble",
   "metadata": {
    "scrolled": true
   },
   "outputs": [],
   "source": [
    "# read image to array\n",
    "pil_im = Image.open(\"Test_image.png\")\n",
    "im = np.array(pil_im)\n",
    "# plot the image\n",
    "plt.imshow(im)\n",
    "plt.show()"
   ]
  },
  {
   "cell_type": "code",
   "execution_count": null,
   "id": "stock-decade",
   "metadata": {},
   "outputs": [],
   "source": [
    "im.shape"
   ]
  },
  {
   "cell_type": "markdown",
   "id": "painted-america",
   "metadata": {},
   "source": [
    "Для преобразования цветов воспользуемся методом convert(). Чтобы проичтать изображение и сделать его полутоновым, сделаем следующее:"
   ]
  },
  {
   "cell_type": "code",
   "execution_count": null,
   "id": "velvet-helen",
   "metadata": {},
   "outputs": [],
   "source": [
    "# read image to array\n",
    "im_gr = np.array(Image.open(\"Test_image.png\").convert('L'))\n",
    "# plot the image\n",
    "plt.imshow(im_gr, cmap=\"gray\")\n",
    "plt.show()"
   ]
  },
  {
   "cell_type": "code",
   "execution_count": null,
   "id": "changed-lebanon",
   "metadata": {},
   "outputs": [],
   "source": [
    "im_gr.shape"
   ]
  },
  {
   "cell_type": "markdown",
   "id": "separated-rachel",
   "metadata": {},
   "source": [
    "Преобразуем изображение в другой формат. С помощью метода save() библиотека PIL может сохранять изображения в большинстве графических форматов. В следующем примере мы читаем изображение из файла, а затем преобразуем в формат JPEG."
   ]
  },
  {
   "cell_type": "code",
   "execution_count": null,
   "id": "working-finnish",
   "metadata": {},
   "outputs": [],
   "source": [
    "input_filename = \"Test_image.png\"\n",
    "output_filename = \"Test_image.jpg\"\n",
    "\n",
    "Image.open(input_filename).save(output_filename)"
   ]
  },
  {
   "cell_type": "markdown",
   "id": "adjacent-myanmar",
   "metadata": {},
   "source": [
    "Копируем и вставим область изображения. Обрезка (кадрирование) изображения производится методом crop(). Прямоугольная область определяется кортежем, содержащим 4 значения координат сторон (левая, верхняя, правая, нижняя). В PIL используется система координат с началом (0,0) в левом верхнем углу.  \n",
    "С вырезанной областью можно затем производить различные операции, например, повернуть и вставить в то же самое место методом paste():"
   ]
  },
  {
   "cell_type": "code",
   "execution_count": null,
   "id": "matched-point",
   "metadata": {},
   "outputs": [],
   "source": [
    "box = (100, 100, 400, 400)\n",
    "\n",
    "region = pil_im.crop(box).transpose(Image.ROTATE_180)\n",
    "\n",
    "\n",
    "pil_im.paste(region, box)\n",
    "\n",
    "# plot the image\n",
    "plt.imshow(np.array(pil_im))\n",
    "plt.show()"
   ]
  },
  {
   "cell_type": "markdown",
   "id": "experimental-responsibility",
   "metadata": {},
   "source": [
    "Изменение размера и поворот. Для изменения размера изображения служит метод resize(), которому передается кортеж, определяющий новый размер изображения.   \n",
    "Для поворота изображения вызывается метод rotate() и задается угол в направлении против часовой стрелки."
   ]
  },
  {
   "cell_type": "code",
   "execution_count": null,
   "id": "suburban-humanity",
   "metadata": {},
   "outputs": [],
   "source": [
    "out = pil_im.resize((128, 128))\n",
    "plt.imshow(np.array(out))\n",
    "plt.show()"
   ]
  },
  {
   "cell_type": "code",
   "execution_count": null,
   "id": "latin-child",
   "metadata": {},
   "outputs": [],
   "source": [
    "out = pil_im.rotate(45)\n",
    "plt.imshow(np.array(out))"
   ]
  },
  {
   "cell_type": "markdown",
   "id": "cardiac-integrity",
   "metadata": {},
   "source": [
    "## 1.3. Примеры использования библиотеки Matplotlib\n",
    "Рисование точек и прямых линий. Далее представлен пример насения на изображение нескольких точек и отрезка прямой. На график помещается изображение, затем четыре точки, обозначенные красными звездочками (их координаты задаются в списках x, y), и наконец, отрезок прямой, соединяющий первые две точки из списка.  \n",
    "Оси на итоговом изображении можно отключить с помощью:  \n",
    "plt.axis(\"off\")"
   ]
  },
  {
   "cell_type": "code",
   "execution_count": null,
   "id": "vietnamese-private",
   "metadata": {},
   "outputs": [],
   "source": [
    "# read image to array\n",
    "im = np.array(Image.open(\"Test_image.png\"))\n",
    "\n",
    "# plot the image\n",
    "plt.imshow(im)\n",
    "\n",
    "# some points\n",
    "x = [100,100,400,400]\n",
    "y = [200,500,200,500]\n",
    "\n",
    "# plot the points with red star-markers\n",
    "plt.plot(x,y,'r*')\n",
    "\n",
    "# line plot connecting the first two points\n",
    "plt.plot(x[:2],y[:2], \"red\")\n",
    "\n",
    "# add title and show the plot\n",
    "plt.title('Plotting: Lenna Söderberg')\n",
    "plt.show()"
   ]
  },
  {
   "cell_type": "markdown",
   "id": "western-building",
   "metadata": {},
   "source": [
    "Изолинии и гистограммы изображений. Рассмотрим два примера специальных графиков: изолинии и гистограммы изображений.   \n",
    "Для построения изолиний требуется использовать полутоновые изображения:"
   ]
  },
  {
   "cell_type": "code",
   "execution_count": null,
   "id": "better-thomson",
   "metadata": {},
   "outputs": [],
   "source": [
    "# read image to array\n",
    "im = np.array(Image.open(\"Test_image.png\").convert('L'))\n",
    "\n",
    "# create a new figure\n",
    "plt.figure()\n",
    "# don’t use colors\n",
    "plt.gray()\n",
    "# show contours with origin upper left corner\n",
    "plt.contour(im, origin='image')\n",
    "plt.axis('equal')\n",
    "plt.axis('off')"
   ]
  },
  {
   "cell_type": "markdown",
   "id": "exterior-humanity",
   "metadata": {},
   "source": [
    "Гистограмма изображения - это график распределения значений пикселей. Область возможных значений разбивается на интервалы, и для каждого интервала определяется количество пикселей, значения которых попадают в этот интервал. Для построения гистограммы полутонового изображения применяется функция hist(). Ее второй аргумент задает количество интервалов. Отметим, что изображение сначала необходимо линеаризовать, потому что hist() ожидает получить на вход одномерный массив. Метод flatten() преобразует любой массив в одномерный."
   ]
  },
  {
   "cell_type": "code",
   "execution_count": null,
   "id": "signed-oracle",
   "metadata": {},
   "outputs": [],
   "source": [
    "plt.figure()\n",
    "plt.hist(im.flatten(),128)\n",
    "plt.xlabel(\"Bins\")\n",
    "plt.ylabel(\"Number of pixels\")\n",
    "plt.title('Histogram of pixel intensities')\n",
    "plt.show()"
   ]
  },
  {
   "cell_type": "markdown",
   "id": "assigned-calendar",
   "metadata": {},
   "source": [
    "Интерактивное аннотирование. Иногда пользователям нужно взаимодействовать с приложением, например, помечать точки изображения или аннотировать обучающие данные. В библиотеке Matplotlib для этого используется функция ginput()"
   ]
  },
  {
   "cell_type": "code",
   "execution_count": null,
   "id": "collaborative-actor",
   "metadata": {},
   "outputs": [],
   "source": [
    "# Воспользуемся внешним бэкендом для построения изображений\n",
    "import matplotlib\n",
    "matplotlib.use('TkAgg')\n",
    "\n",
    "# %matplotlib qt\n",
    "# the interactive plot"
   ]
  },
  {
   "cell_type": "code",
   "execution_count": null,
   "id": "facial-tourism",
   "metadata": {},
   "outputs": [],
   "source": [
    "im = np.array(Image.open('Test_image.png'))\n",
    "plt.imshow(im)\n",
    "print('Please click 3 points')\n",
    "x = plt.ginput(3)\n",
    "print('you clicked:',x)\n",
    "plt.show()"
   ]
  },
  {
   "cell_type": "code",
   "execution_count": null,
   "id": "loaded-breed",
   "metadata": {},
   "outputs": [],
   "source": [
    "# Возврат к встроенному отображению\n",
    "# %matplotlib inline"
   ]
  },
  {
   "cell_type": "markdown",
   "id": "involved-finger",
   "metadata": {},
   "source": [
    "## 1.4. Примеры использования пакета NumPy\n",
    "Представление изображение в виде массива. Загружая изображения в предыдущих примерах, мы преобразовывали их в массивы. Массивы в Numpy многомерные и могут использоваться для представления векторов, матриц, изображений. Массив похож на список (или список списков), но может содержать только элементы одного типа. Если тип не указа при создании массива, то он автоматически определяется из данных."
   ]
  },
  {
   "cell_type": "code",
   "execution_count": null,
   "id": "suited-banks",
   "metadata": {},
   "outputs": [],
   "source": [
    "im = np.array(Image.open('Test_image.png'))\n",
    "print(im.shape, im.dtype)\n",
    "\n",
    "im_gr = np.array(Image.open('Test_image.png').convert('L'),'f')\n",
    "print(im_gr.shape, im_gr.dtype)"
   ]
  },
  {
   "cell_type": "markdown",
   "id": "hollywood-egypt",
   "metadata": {},
   "source": [
    "Изображения обычно кодируются 8-битными целыми числами без знака (uint8), поэтому при загрузке этого изображения и преобразовании в массив в первом случае получается тип uint8. Во втором случае выполняется преобразование в оттенки серого и создается массив с дополнительным аргументом «f». Это короткая команда для установки типа с плавающей запятой. Обратим внимание, что изображение в градациях серого имеет только два значения в кортеже формы; очевидно, что у него нет информации о цвете. "
   ]
  },
  {
   "cell_type": "markdown",
   "id": "worth-specific",
   "metadata": {},
   "source": [
    "После считывания изображений в массивы NumPy мы можем выполнять с ними любые математические операции, которые нам нравятся. Простым примером этого является преобразование уровней градации серого на изображении. Возьмем любую функцию f, отображающую интервал 0. . . 255 (или, если вам нравится 0 ... 1) самому себе (это означает, что выходной диапазон имеет тот же диапазон, что и входной). Вот несколько примеров."
   ]
  },
  {
   "cell_type": "code",
   "execution_count": null,
   "id": "interior-toronto",
   "metadata": {},
   "outputs": [],
   "source": [
    "im = np.array(Image.open('Test_image.png').convert('L'))\n",
    "im2 = 255 - im #invert image\n",
    "im3 = (100.0/255) * im + 100 #clamp to interval 100...200\n",
    "im4 = 255.0 * (im/255.0)**2 #squared\n",
    "\n",
    "# Create four polar axes and access them through the returned array\n",
    "fig, axs = plt.subplots(2, 2, figsize=(7,7))\n",
    "axs[0, 0].imshow(im, cmap=\"gray\")\n",
    "axs[0, 1].imshow(im2, cmap=\"gray\")\n",
    "axs[1, 0].imshow(im3, cmap=\"gray\")\n",
    "axs[1, 1].imshow(im4, cmap=\"gray\")\n",
    "plt.plot()"
   ]
  },
  {
   "cell_type": "markdown",
   "id": "fourth-skating",
   "metadata": {},
   "source": [
    "Выравнивание гистограммы. Очень полезный пример преобразования - выравнивание гистограммы. Это преобразование сглаживает гистограмму, чтобы результирующая гистограмма содержала все возможные значения яркости и при этом в примерно одинаковом количестве. Это хороший способ нормализовать интенсивность изображения перед дальнейшей обработкой, а также способ увеличить контраст изображения. Функция преобразования в этом случае является кумулятивной функцией распределения (cdf) значений пикселей в изображении (нормализованной для отображения диапазона значений пикселей в желаемый диапазон)."
   ]
  },
  {
   "cell_type": "code",
   "execution_count": null,
   "id": "operating-dodge",
   "metadata": {},
   "outputs": [],
   "source": [
    "def histeq(im,nbr_bins=256):\n",
    "    \"\"\" Histogram equalization of a grayscale image. \"\"\"\n",
    "    # get image histogram\n",
    "    imhist,bins = np.histogram(im.flatten(),nbr_bins,normed=True)\n",
    "    \n",
    "    cdf = imhist.cumsum() # cumulative distribution function   \n",
    "    \n",
    "    cdf = 255 * cdf / cdf[-1] # normalize\n",
    "\n",
    "    # use linear interpolation of cdf to find new pixel values\n",
    "    im2 = np.interp(im.flatten(),bins[:-1],cdf)\n",
    "    return im2.reshape(im.shape), cdf"
   ]
  },
  {
   "cell_type": "markdown",
   "id": "constitutional-eating",
   "metadata": {},
   "source": [
    "Функция принимает изображение в градациях серого и количество интервалов для использования в гистограмме в качестве входных данных и возвращает изображение с выровненной гистограммой вместе с кумулятивной функцией распределения, используемой для сопоставления значений пикселей"
   ]
  },
  {
   "cell_type": "code",
   "execution_count": null,
   "id": "operational-fruit",
   "metadata": {},
   "outputs": [],
   "source": [
    "im_equal, cdf = histeq(im)\n",
    "\n",
    "fig, axs = plt.subplots(2, 3, figsize=(10,10))\n",
    "axs[0, 0].imshow(im, cmap=\"gray\")\n",
    "axs[0, 0].title.set_text('Initial image')\n",
    "axs[0, 1].plot(cdf)\n",
    "axs[0, 2].imshow(im_equal, cmap=\"gray\")\n",
    "axs[0, 2].title.set_text('Equalized image')\n",
    "axs[1, 0].hist(im.flatten(),256)\n",
    "axs[1, 2].hist(im_equal.flatten(),256)\n",
    "plt.plot()"
   ]
  },
  {
   "cell_type": "markdown",
   "id": "moved-mauritius",
   "metadata": {},
   "source": [
    "## 1.5. Примеры использования пакета SciPy\n",
    "Размытие изображений. Классическим и очень полезным примером свертки изображений является размытие изображений по Гауссу. По сути, изображение I (в оттенках серого) сворачивается с гауссовым фильтром для создания размытого изображения:\n",
    "$$ I_{\\sigma} = I * G_{\\sigma}$$\n",
    "где * означает операцию свертки, а G - это 2-мерное ядро Гауссового фильтра:\n",
    "$$ G_{\\sigma} = \\dfrac{1}{2\\pi\\sigma}e^{-(x^{2}+y^{2})/2\\sigma^{2}}$$\n",
    "Размытие по Гауссу используется для для интерполяции, для вычисления особых точек изображения и во многих других приложениях. SciPy предлагает модуль фильтрации, называемый scipy.ndimage.filters, который можно использовать для вычисления этих сверток с использованием быстрого метода разделения переменных."
   ]
  },
  {
   "cell_type": "code",
   "execution_count": null,
   "id": "registered-allowance",
   "metadata": {},
   "outputs": [],
   "source": [
    "fig, axs = plt.subplots(1, 4, figsize=(10,10))\n",
    "axs[0].imshow(im, cmap=\"gray\")\n",
    "axs[0].title.set_text('Initial image')\n",
    "\n",
    "for i, sigma in enumerate([2, 5, 10]):\n",
    "    axs[i+1].imshow(sp.filters.gaussian_filter(im,sigma), cmap=\"gray\")\n",
    "    axs[i+1].title.set_text(f'Sigma value {sigma}')\n",
    "    \n",
    "plt.plot()"
   ]
  },
  {
   "cell_type": "markdown",
   "id": "technological-moisture",
   "metadata": {},
   "source": [
    "Вычисление производных по изображению. То, как интенсивность изображения изменяется по всему изображению, является важной информацией, которая используется во многих приложениях, например, для выделения границ. Изменение интенсивности описывается производными по x и y серошкального изображения I (для цветных изображений производные обычно берутся для каждого цветового канала).  \n",
    "Градиент изображения - это вектор, который описывается амплитудой градиента: \n",
    "$$ |\\nabla I|=\\sqrt{I_{x}^{2} + I_{y}^{2}} $$\n",
    "которая описывает, насколько сильно изменяется интенсивность изображения;  \n",
    "и угол градиента: \n",
    "$$ \\alpha = arctan2(I_{y},I_{x})$$\n",
    "который обозначает направления наибольшего изменения интенсивности в каждой точке изображения.  \n",
    "Однако на практие для вычисления производных от изображения применяют дискретные аппроксимации, которые реализуются через операцию свертки со специализированным фильтром. Например фильтры Prewitt: \n",
    "$$ D_{x} = \\begin{bmatrix}\n",
    "-1 & 0 & 1\\\\\n",
    "-1 & 0 & 1\\\\\n",
    "-1 & 0 & 1\\\\\n",
    "\\end{bmatrix} $$\n",
    "\n",
    "$$ D_{y} = \\begin{bmatrix}\n",
    "-1 & -1 & -1\\\\\n",
    "0 & 0 & 0\\\\\n",
    "1 & 1 & 1\\\\\n",
    "\\end{bmatrix} $$\n",
    "\n",
    "И фильтры Собеля: \n",
    "$$ D_{x} = \\begin{bmatrix}\n",
    "-1 & 0 & 1\\\\\n",
    "-2 & 0 & 2\\\\\n",
    "-1 & 0 & 1\\\\\n",
    "\\end{bmatrix} $$\n",
    "\n",
    "$$ D_{y} = \\begin{bmatrix}\n",
    "-1 & -2 & -1\\\\\n",
    "0 & 0 & 0\\\\\n",
    "1 & 2 & 1\\\\\n",
    "\\end{bmatrix} $$"
   ]
  },
  {
   "cell_type": "code",
   "execution_count": null,
   "id": "flexible-chocolate",
   "metadata": {},
   "outputs": [],
   "source": [
    "#Sobel derivative filters\n",
    "imx = np.zeros(im.shape)\n",
    "sp.filters.sobel(im,1,imx)\n",
    "\n",
    "imy = np.zeros(im.shape)\n",
    "sp.filters.sobel(im,0,imy)\n",
    "\n",
    "magnitude = np.sqrt(imx**2+imy**2)\n",
    "\n",
    "fig, axs = plt.subplots(1, 4, figsize=(15,15))\n",
    "axs[0].imshow(im, cmap=\"gray\")\n",
    "axs[0].title.set_text('Initial image')\n",
    "axs[1].imshow(imx, cmap=\"gray\")\n",
    "axs[1].title.set_text('Sobel X')\n",
    "axs[2].imshow(imy, cmap=\"gray\")\n",
    "axs[2].title.set_text('Sobel Y')\n",
    "axs[3].imshow(magnitude, cmap=\"gray\")\n",
    "axs[3].title.set_text('Magnitude')\n",
    "\n",
    "plt.plot()"
   ]
  },
  {
   "cell_type": "markdown",
   "id": "baking-roots",
   "metadata": {},
   "source": [
    "## 2. Введение в библиотеку OpenCV\n",
    "OpenCV - это библиотека алгоритмов компьютерного зрения, обработки изображений и численных алгоритмов общего назначения с открытым кодом. Это мощная библиотека, позволяющая решать существенное большинство задач компьютерного зрения. Начнем с базовых функций этой библиотеки."
   ]
  },
  {
   "cell_type": "code",
   "execution_count": null,
   "id": "other-instruction",
   "metadata": {},
   "outputs": [],
   "source": [
    "import cv2 as cv"
   ]
  },
  {
   "cell_type": "markdown",
   "id": "numeric-israeli",
   "metadata": {},
   "source": [
    "## 2.1. Считывание и сохранение изображений и видео\n",
    "Считаем изображение из файла, отобразим его в отдельном окне и запишем изображение в новый файл.  \n",
    "Для начала считаем путь к файлу с помощью функции imread().При выводе изображения открывается новое окно. Находясь на данном окне, можно нажать клавишу \"s\" для сохранения изображения в формате png."
   ]
  },
  {
   "cell_type": "code",
   "execution_count": null,
   "id": "contemporary-postcard",
   "metadata": {},
   "outputs": [],
   "source": [
    "import sys\n",
    "img = cv.imread(\"starry_night.jpg\")\n",
    "\n",
    "cv.imshow(\"Display window\", img)\n",
    "k = cv.waitKey(0)\n",
    "if k == ord(\"s\"):\n",
    "    cv.imwrite(\"starry_night.png\", img)"
   ]
  },
  {
   "cell_type": "markdown",
   "id": "whole-oliver",
   "metadata": {},
   "source": [
    "Считаем видео с камеры и выведем его на экран. Часто нам приходится снимать прямую трансляцию с помощью камеры. OpenCV предоставляет для этого очень простой интерфейс. Давайте снимем видео с камеры, преобразуем его в видео в оттенках серого и отобразим. \n",
    "Чтобы записать видео, вам необходимо создать объект VideoCapture. Его аргументом может быть либо индекс устройства, либо имя видеофайла. Индекс устройства - это просто номер, указывающий, какую камера использовать. Обычно будет подключена одна камера. Поэтому просто передаем 0 (или -1). Вы можете выбрать вторую камеру, передав 1 и так далее. После этого вы можете снимать кадр за кадром. Но в конце не забудьте отпустить ресурс камеры."
   ]
  },
  {
   "cell_type": "code",
   "execution_count": null,
   "id": "decimal-interstate",
   "metadata": {},
   "outputs": [],
   "source": [
    "import numpy as np\n",
    "import cv2 as cv\n",
    "\n",
    "cap = cv.VideoCapture(0)\n",
    "\n",
    "if not cap.isOpened():\n",
    "    print(\"Cannot open camera\")\n",
    "    exit()\n",
    "    \n",
    "while True:\n",
    "    # Capture frame-by-frame\n",
    "    ret, frame = cap.read()\n",
    "    \n",
    "    # if frame is read correctly ret is True\n",
    "    if not ret:\n",
    "        print(\"Can't receive frame (stream end?). Exiting ...\")\n",
    "        break\n",
    "        \n",
    "    # Our operations on the frame come here\n",
    "    gray = cv.cvtColor(frame, cv.COLOR_BGR2GRAY)\n",
    "    \n",
    "    # Display the resulting frame\n",
    "    cv.imshow('frame', gray)\n",
    "    if cv.waitKey(1) == ord('q'):\n",
    "        break\n",
    "        \n",
    "# When everything done, release the capture\n",
    "cap.release()\n",
    "cv.destroyAllWindows()"
   ]
  },
  {
   "cell_type": "markdown",
   "id": "fifty-probe",
   "metadata": {},
   "source": [
    "cap.read() возвращает True/False. В случае, если кадр считан правильно, возвращается True.   \n",
    "Для проверки правильности инициализации камеры можно использовать cap.isOpened(). Если ининциализация произошла некорректно, то можно обратиться к ресурсу камеры заново: cap.open().  \n",
    "Также существует возможность обратиться к некоторым свойствам видео, используя cap.get(propId), где propId может принимать значения от 0 до 18 и обозначает конкретное свойство, например, cap.get(cv.CAP_PROP_FRAME_WIDTH) и cap.get(cv.CAP_PROP_FRAME_HEIGHT). Чтобы изменить параметры видео можно сделать следующее:  \n",
    "ret = cap.set(cv.CAP_PROP_FRAME_WIDTH,320)  \n",
    "ret = cap.set(cv.CAP_PROP_FRAME_HEIGHT,240)"
   ]
  },
  {
   "cell_type": "markdown",
   "id": "durable-stationery",
   "metadata": {},
   "source": [
    "Для сохранения видео требуется создания объекта VideoWriter. Мы должны указать имя выходного файла (например: output.avi). Затем мы должны указать код FourCC. Затем следует передать количество кадров в секунду (fps) и размер кадра. И последний - флаг isColor. Если это True, кодировщик ожидает цветной кадр, в противном случае он работает с изображением в градациях серого.\n",
    "FourCC - это 4-байтовый код, используемый для определения видеокодека. Список доступных кодов можно найти на сайте fourcc.org. Это зависит от платформы.  \n",
    "Приведенный ниже код выполняет захват с камеры, переворачивает каждый кадр в вертикальном направлении и сохраняет видео."
   ]
  },
  {
   "cell_type": "code",
   "execution_count": null,
   "id": "typical-somalia",
   "metadata": {},
   "outputs": [],
   "source": [
    "cap = cv.VideoCapture(0)\n",
    "\n",
    "# Define the codec and create VideoWriter object\n",
    "fourcc = cv.VideoWriter_fourcc(*'XVID')\n",
    "out = cv.VideoWriter('output.avi', fourcc, 20.0, (640,  480))\n",
    "\n",
    "while cap.isOpened():\n",
    "    ret, frame = cap.read()\n",
    "    \n",
    "    if not ret:\n",
    "        print(\"Can't receive frame (stream end?). Exiting ...\")\n",
    "        break\n",
    "        \n",
    "    frame = cv.flip(frame, 0)\n",
    "    \n",
    "    # write the flipped frame\n",
    "    out.write(frame)\n",
    "    cv.imshow('frame', frame)\n",
    "    if cv.waitKey(1) == ord('q'):\n",
    "        break\n",
    "        \n",
    "# Release everything if job is finished\n",
    "cap.release()\n",
    "out.release()\n",
    "cv.destroyAllWindows()"
   ]
  },
  {
   "cell_type": "markdown",
   "id": "unavailable-headset",
   "metadata": {},
   "source": [
    "## 2.2. Инструменты рисования\n",
    "Нарисуем геометрические фигуры с помощью библиотеки OpenCV: cv.line(), cv.circle() , cv.rectangle(), cv.ellipse(). В качестве аргументов этих функций часто передаются следующие:\n",
    "- img: изображение, на котором формируются фигуры,\n",
    "- color: цвет объекта, (x,x,x) для цветного изображения, x - для оттенков серого,\n",
    "- thickness: толщина линии, если значение == -1, то фигура будет заполнена (например круг, а не окружность),\n",
    "- lineType: тип линии.  \n",
    "\n",
    "Нарисуем линию:"
   ]
  },
  {
   "cell_type": "code",
   "execution_count": null,
   "id": "canadian-honor",
   "metadata": {},
   "outputs": [],
   "source": [
    "# Create a black image\n",
    "img = np.zeros((512,512,3), np.uint8)\n",
    "\n",
    "# Draw a diagonal blue line with thickness of 5 px\n",
    "cv.line(img,(0,0),(511,511),(255,0,0),5)\n",
    "\n",
    "plt.imshow(img)\n",
    "plt.plot()"
   ]
  },
  {
   "cell_type": "markdown",
   "id": "infrared-vessel",
   "metadata": {},
   "source": [
    "Нарисуем квадрат:"
   ]
  },
  {
   "cell_type": "code",
   "execution_count": null,
   "id": "manual-coast",
   "metadata": {},
   "outputs": [],
   "source": [
    "cv.rectangle(img,(382,0),(510,128),(0,255,0),3)\n",
    "plt.imshow(img)\n",
    "plt.plot()"
   ]
  },
  {
   "cell_type": "markdown",
   "id": "loaded-diagram",
   "metadata": {},
   "source": [
    "Нарисуем круг:"
   ]
  },
  {
   "cell_type": "code",
   "execution_count": null,
   "id": "roman-there",
   "metadata": {},
   "outputs": [],
   "source": [
    "cv.circle(img,(447,63), 63, (0,0,255), -1)\n",
    "plt.imshow(img)\n",
    "plt.plot()"
   ]
  },
  {
   "cell_type": "markdown",
   "id": "circular-chrome",
   "metadata": {},
   "source": [
    "Добавим текст на изображения. Для этого укажем:\n",
    "- текст, который мы хотим вывести,\n",
    "- нижнюю-левую координату расположения надписи,\n",
    "- тип шрифта,\n",
    "- размер шрифта,\n",
    "- прочие параметры, такие как цвет, толщина и т.д."
   ]
  },
  {
   "cell_type": "code",
   "execution_count": null,
   "id": "ambient-score",
   "metadata": {},
   "outputs": [],
   "source": [
    "font = cv.FONT_HERSHEY_SIMPLEX\n",
    "\n",
    "cv.putText(img,'OpenCV',(10,500), font, 4,(255,255,255),2,cv.LINE_AA)\n",
    "plt.imshow(img)\n",
    "plt.plot()"
   ]
  },
  {
   "cell_type": "markdown",
   "id": "adopted-return",
   "metadata": {},
   "source": [
    "Сделаем интерактивный режим рисования, который в зависимости от режима может отображать на картинке либо квадраты, либо круги. При этом для управления рисования воспользуемся событиями: нажатие левой кнопкой мыши, отпускание левой кнопки мыши, движение мышью. Данный пример будет полезен в контексте создания и понимания прикладных приложений отслеживания объектов и сегментации.  \n",
    "Для начала зададим функцию, определяющую поведение мыши:"
   ]
  },
  {
   "cell_type": "code",
   "execution_count": null,
   "id": "subject-maple",
   "metadata": {},
   "outputs": [],
   "source": [
    "drawing = False # true if mouse is pressed\n",
    "mode = True # if True, draw rectangle. Press 'm' to toggle to curve\n",
    "ix,iy = -1,-1\n",
    "\n",
    "# mouse callback function\n",
    "def draw_circle(event,x,y,flags,param):\n",
    "    \n",
    "    global ix,iy,drawing,mode\n",
    "    \n",
    "    if event == cv.EVENT_LBUTTONDOWN:\n",
    "        drawing = True\n",
    "        ix,iy = x,y\n",
    "        \n",
    "    elif event == cv.EVENT_MOUSEMOVE:\n",
    "        if drawing == True:\n",
    "            if mode == True:\n",
    "                cv.rectangle(img,(ix,iy),(x,y),(0,255,0),-1)\n",
    "            else:\n",
    "                cv.circle(img,(x,y),5,(0,0,255),-1)\n",
    "                \n",
    "    elif event == cv.EVENT_LBUTTONUP:\n",
    "        drawing = False\n",
    "        if mode == True:\n",
    "            cv.rectangle(img,(ix,iy),(x,y),(0,255,0),-1)\n",
    "        else:\n",
    "            cv.circle(img,(x,y),5,(0,0,255),-1)"
   ]
  },
  {
   "cell_type": "markdown",
   "id": "respected-assembly",
   "metadata": {},
   "source": [
    "Выведем предыдущую картинку в отдельное окно, в котором будем рисовать фигуры:"
   ]
  },
  {
   "cell_type": "code",
   "execution_count": null,
   "id": "cognitive-inside",
   "metadata": {},
   "outputs": [],
   "source": [
    "cv.namedWindow('image')\n",
    "cv.setMouseCallback('image',draw_circle)\n",
    "\n",
    "while(1):\n",
    "    cv.imshow('image',img)\n",
    "    k = cv.waitKey(1) & 0xFF\n",
    "    if k == ord('m'):\n",
    "        mode = not mode\n",
    "    elif k == ord('q'):\n",
    "        break\n",
    "cv.destroyAllWindows()"
   ]
  },
  {
   "cell_type": "markdown",
   "id": "cloudy-advisory",
   "metadata": {},
   "source": [
    "## 2.3. Базовые операции над изображениями\n",
    "Начнем с доступа к отдельному каналу изображения. Для этого можно выполнить следуюшие операции с помощью numpy:"
   ]
  },
  {
   "cell_type": "code",
   "execution_count": null,
   "id": "powered-slide",
   "metadata": {},
   "outputs": [],
   "source": [
    "img = cv.imread('messi.jpg')\n",
    "\n",
    "def channel_blue(img):\n",
    "    img[:,:,1] = 0\n",
    "    img[:,:,2] = 0\n",
    "    return img\n",
    "\n",
    "cv.imshow(\"Display window\", channel_blue(img))\n",
    "k = cv.waitKey(0)"
   ]
  },
  {
   "cell_type": "markdown",
   "id": "neural-source",
   "metadata": {},
   "source": [
    "Выделим определенную область из изображения и вставим ее в другую часть исходного:"
   ]
  },
  {
   "cell_type": "code",
   "execution_count": null,
   "id": "confused-tours",
   "metadata": {},
   "outputs": [],
   "source": [
    "img = cv.imread('messi.jpg')\n",
    "\n",
    "ball = img[280:340, 330:390]\n",
    "img[273:333, 100:160] = ball\n",
    "\n",
    "cv.imshow(\"Display window\", img)\n",
    "k = cv.waitKey(0)"
   ]
  },
  {
   "cell_type": "markdown",
   "id": "pretty-miniature",
   "metadata": {},
   "source": [
    "Создадим рамку вокруг изображений с помощью cv.copyMakeBorder(). Это может применено в случае выполнения операции свертки (zero-padding)."
   ]
  },
  {
   "cell_type": "code",
   "execution_count": null,
   "id": "modern-cookie",
   "metadata": {},
   "outputs": [],
   "source": [
    "RED = [255,0,0]\n",
    "\n",
    "img1 = cv.imread('opencv.png')\n",
    "\n",
    "replicate = cv.copyMakeBorder(img1,50,50,50,50,cv.BORDER_REPLICATE)\n",
    "reflect = cv.copyMakeBorder(img1,50,50,50,50,cv.BORDER_REFLECT)\n",
    "reflect101 = cv.copyMakeBorder(img1,50,50,50,50,cv.BORDER_REFLECT_101)\n",
    "wrap = cv.copyMakeBorder(img1,50,50,50,50,cv.BORDER_WRAP)\n",
    "constant= cv.copyMakeBorder(img1,50,50,50,50,cv.BORDER_CONSTANT,value=RED)\n",
    "\n",
    "plt.subplot(231),plt.imshow(img1,'gray'),plt.title('ORIGINAL'), plt.axis(\"off\")\n",
    "plt.subplot(232),plt.imshow(replicate,'gray'),plt.title('REPLICATE'), plt.axis(\"off\")\n",
    "plt.subplot(233),plt.imshow(reflect,'gray'),plt.title('REFLECT'), plt.axis(\"off\")\n",
    "plt.subplot(234),plt.imshow(reflect101,'gray'),plt.title('REFLECT_101'), plt.axis(\"off\")\n",
    "plt.subplot(235),plt.imshow(wrap,'gray'),plt.title('WRAP'), plt.axis(\"off\")\n",
    "plt.subplot(236),plt.imshow(constant,'gray'),plt.title('CONSTANT'), plt.axis(\"off\")\n",
    "\n",
    "plt.show()"
   ]
  },
  {
   "cell_type": "markdown",
   "id": "advanced-simpson",
   "metadata": {},
   "source": [
    "Наложим одну картинку на другую. Для этого можно использовать наложение изображений с установлением прозрачности для каждого:"
   ]
  },
  {
   "cell_type": "code",
   "execution_count": null,
   "id": "greater-medicaid",
   "metadata": {},
   "outputs": [],
   "source": [
    "img1 = cv.imread('messi.jpg')\n",
    "img2 = cv.imread('opencv.png')\n",
    "img2 = cv.resize(img2, dsize=(img1.shape[1], img1.shape[0]))\n",
    "\n",
    "dst = cv.addWeighted(img1,0.5,img2,0.5,0)\n",
    "cv.imshow('dst',dst)\n",
    "cv.waitKey(0)\n",
    "cv.destroyAllWindows()"
   ]
  },
  {
   "cell_type": "markdown",
   "id": "cross-lounge",
   "metadata": {},
   "source": [
    "Второй подход заключается в выделении только эмблемы OpenCV из изображения img2 с последующим наложением на картинку img1 с помощью попиксельных логических операций и бинаризации по порогу."
   ]
  },
  {
   "cell_type": "code",
   "execution_count": null,
   "id": "visible-contributor",
   "metadata": {},
   "outputs": [],
   "source": [
    "rows,cols,channels = img2.shape\n",
    "roi = img1[0:rows, 0:cols]\n",
    "\n",
    "# Now create a mask of logo and create its inverse mask also\n",
    "img2gray = cv.cvtColor(img2,cv.COLOR_BGR2GRAY)\n",
    "ret, mask = cv.threshold(img2gray, 10, 255, cv.THRESH_BINARY)\n",
    "\n",
    "mask_inv = cv.bitwise_not(mask)\n",
    "\n",
    "plt.imshow(mask_inv)\n",
    "plt.show()"
   ]
  },
  {
   "cell_type": "code",
   "execution_count": null,
   "id": "stopped-chase",
   "metadata": {},
   "outputs": [],
   "source": [
    "# Now black-out the area of logo in ROI\n",
    "img1_bg = cv.bitwise_and(roi,roi,mask = mask_inv)\n",
    "\n",
    "# Take only region of logo from logo image.\n",
    "img2_fg = cv.bitwise_and(img2,img2,mask = mask)\n",
    "\n",
    "# Put logo in ROI and modify the main image\n",
    "dst = cv.add(img1_bg,img2_fg)\n",
    "\n",
    "img1[0:rows, 0:cols ] = dst\n",
    "\n",
    "cv.imshow('res',img1)\n",
    "cv.waitKey(0)\n",
    "cv.destroyAllWindows()"
   ]
  },
  {
   "cell_type": "markdown",
   "id": "weighted-botswana",
   "metadata": {},
   "source": [
    "## Задание\n",
    "Для изображения \"starry_night.jpg\":\n",
    "1. Считать изображение\n",
    "2. Перевести в серошкальный формат\n",
    "3. Провести эквализацию гистограммы\n",
    "4. Выделить границы на изображении\n",
    "5. Добавить на изображение элипсы произвольного цвета (использовать random)\n",
    "6. Добавить на изображение лого OpenCV\n",
    "7. Сохранить результат в формате PNG"
   ]
  },
  {
   "cell_type": "code",
   "execution_count": null,
   "id": "5c5ecc42",
   "metadata": {},
   "outputs": [],
   "source": []
  }
 ],
 "metadata": {
  "kernelspec": {
   "display_name": "Python 3 (ipykernel)",
   "language": "python",
   "name": "python3"
  },
  "language_info": {
   "codemirror_mode": {
    "name": "ipython",
    "version": 3
   },
   "file_extension": ".py",
   "mimetype": "text/x-python",
   "name": "python",
   "nbconvert_exporter": "python",
   "pygments_lexer": "ipython3",
   "version": "3.8.10"
  }
 },
 "nbformat": 4,
 "nbformat_minor": 5
}
